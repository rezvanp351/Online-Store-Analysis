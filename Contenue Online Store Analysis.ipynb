{
 "cells": [
  {
   "cell_type": "code",
   "execution_count": 1,
   "id": "1636b9a0-f32b-4874-85ff-dcf0385efd54",
   "metadata": {},
   "outputs": [
    {
     "name": "stdout",
     "output_type": "stream",
     "text": [
      "Data cleaned successfully.\n"
     ]
    }
   ],
   "source": [
    "import pandas as pd\n",
    "\n",
    "# Read the CSV file\n",
    "df = pd.read_csv('flipkart_com-ecommerce_sample_small.csv')\n",
    "\n",
    "# Drop rows with missing values\n",
    "df.dropna(inplace=True)\n",
    "\n",
    "# Fill missing values with the mean for numeric columns only\n",
    "numeric_columns = df.select_dtypes(include=['number']).columns\n",
    "df[numeric_columns] = df[numeric_columns].fillna(df[numeric_columns].mean())\n",
    "\n",
    "# Remove duplicate entries\n",
    "df.drop_duplicates(inplace=True)\n",
    "\n",
    "print(\"Data cleaned successfully.\")\n"
   ]
  },
  {
   "cell_type": "code",
   "execution_count": 3,
   "id": "80f2f6d8-3fde-4aff-9454-fe5f6f783073",
   "metadata": {},
   "outputs": [
    {
     "name": "stdout",
     "output_type": "stream",
     "text": [
      "Data normalized.\n"
     ]
    }
   ],
   "source": [
    "from sklearn.preprocessing import MinMaxScaler\n",
    "import pandas as pd\n",
    "df = pd.read_csv('flipkart_com-ecommerce_sample.csv')\n",
    "# Normalize the 'retail_price' and 'discounted_price' columns to a 0-1 range\n",
    "scaler = MinMaxScaler()\n",
    "df[['retail_price', 'discounted_price']] = scaler.fit_transform(df[['retail_price', 'discounted_price']])\n",
    "\n",
    "print(\"Data normalized.\")"
   ]
  },
  {
   "cell_type": "code",
   "execution_count": 5,
   "id": "b8df1793-cde0-40f5-9607-52a41d8dba08",
   "metadata": {},
   "outputs": [
    {
     "name": "stdout",
     "output_type": "stream",
     "text": [
      "Categorical variables encoded.\n"
     ]
    }
   ],
   "source": [
    "# Apply One-Hot Encoding to the 'Category' column\n",
    "df = pd.get_dummies(df, columns=['product_category_tree'], drop_first=True)\n",
    "\n",
    "print(\"Categorical variables encoded.\")"
   ]
  },
  {
   "cell_type": "code",
   "execution_count": 13,
   "id": "70d9f9a7-063b-4a36-9623-bc72b022e5ff",
   "metadata": {},
   "outputs": [
    {
     "name": "stdout",
     "output_type": "stream",
     "text": [
      "One-Hot Encoding applied to 'Category' column:\n",
      "          Product  Rating  Category_Fashion\n",
      "0         Laptop    High             False\n",
      "1          Shirt  Medium              True\n",
      "2         Mobile     Low             False\n",
      "3          Shoes    High              True\n",
      "4         Tablet  Medium             False\n",
      "5  Women Clothes     Low              True\n",
      "6    Man Clothes    High              True\n",
      "\n",
      "Label Encoding applied to 'Rating' column:\n",
      "          Product  Rating  Category_Fashion\n",
      "0         Laptop       0             False\n",
      "1          Shirt       2              True\n",
      "2         Mobile       1             False\n",
      "3          Shoes       0              True\n",
      "4         Tablet       2             False\n",
      "5  Women Clothes       1              True\n",
      "6    Man Clothes       0              True\n"
     ]
    }
   ],
   "source": [
    "import pandas as pd\n",
    "from sklearn.preprocessing import LabelEncoder\n",
    "\n",
    "# Corrected Example DataFrame with equal-length lists\n",
    "data = {\n",
    "    'Product': ['Laptop', 'Shirt', 'Mobile', 'Shoes', 'Tablet', 'Women Clothes', 'Man Clothes'],\n",
    "    'Category': ['Electronics', 'Fashion', 'Electronics', 'Fashion', 'Electronics', 'Fashion', 'Fashion'],\n",
    "    'Rating': ['High', 'Medium', 'Low', 'High', 'Medium', 'Low', 'High']\n",
    "}\n",
    "\n",
    "df = pd.DataFrame(data)\n",
    "\n",
    "# One-Hot Encoding for 'Category' column\n",
    "df = pd.get_dummies(df, columns=['Category'], drop_first=True)\n",
    "print(\"One-Hot Encoding applied to 'Category' column:\\n\", df)\n",
    "\n",
    "# Label Encoding for 'Rating' column\n",
    "label_encoder = LabelEncoder()\n",
    "df['Rating'] = label_encoder.fit_transform(df['Rating'])\n",
    "print(\"\\nLabel Encoding applied to 'Rating' column:\\n\", df)\n",
    "\n"
   ]
  },
  {
   "cell_type": "code",
   "execution_count": 15,
   "id": "ec0338e3-457f-4950-a2b0-3e1082542553",
   "metadata": {},
   "outputs": [
    {
     "name": "stdout",
     "output_type": "stream",
     "text": [
      "Index(['uniq_id', 'crawl_timestamp', 'product_url', 'product_name',\n",
      "       'product_category_tree', 'pid', 'retail_price', 'discounted_price',\n",
      "       'image', 'is_FK_Advantage_product', 'description', 'product_rating',\n",
      "       'overall_rating', 'brand', 'product_specifications'],\n",
      "      dtype='object')\n"
     ]
    }
   ],
   "source": [
    "import pandas as pd\n",
    "\n",
    "df = pd.read_csv('flipkart_com-ecommerce_sample.csv')\n",
    "print(df.columns)\n"
   ]
  },
  {
   "cell_type": "code",
   "execution_count": 3,
   "id": "6fcdf07a-a946-4450-a7ac-0fc34b79e847",
   "metadata": {},
   "outputs": [
    {
     "name": "stdout",
     "output_type": "stream",
     "text": [
      "Selected features:\n",
      "    retail_price       overall_rating  \\\n",
      "0         999.0  No rating available   \n",
      "1       32157.0  No rating available   \n",
      "2         999.0  No rating available   \n",
      "3         699.0  No rating available   \n",
      "4         220.0  No rating available   \n",
      "\n",
      "                               product_category_tree  is_FK_Advantage_product  \n",
      "0  [\"Clothing >> Women's Clothing >> Lingerie, Sl...                    False  \n",
      "1  [\"Furniture >> Living Room Furniture >> Sofa B...                    False  \n",
      "2  [\"Footwear >> Women's Footwear >> Ballerinas >...                    False  \n",
      "3  [\"Clothing >> Women's Clothing >> Lingerie, Sl...                    False  \n",
      "4  [\"Pet Supplies >> Grooming >> Skin & Coat Care...                    False  \n"
     ]
    }
   ],
   "source": [
    "import pandas as pd\n",
    "\n",
    "df = pd.read_csv('flipkart_com-ecommerce_sample.csv')\n",
    "#Change the Rows Name\n",
    "features = df[['retail_price', 'overall_rating', 'product_category_tree', 'is_FK_Advantage_product']]  #Haypitatis Name\n",
    "\n",
    "print(\"Selected features:\\n\", features.head())\n"
   ]
  },
  {
   "cell_type": "code",
   "execution_count": 17,
   "id": "7ad95bb4-3981-45fc-9cb2-d211ed3ffbc3",
   "metadata": {},
   "outputs": [
    {
     "name": "stdout",
     "output_type": "stream",
     "text": [
      "After Feature Engineering:\n",
      "         Product  Price Price_Bucket  Customer_Age Age_Group  Rating  \\\n",
      "0        Laptop    800         High            34     Adult    High   \n",
      "1         Shirt     30          Low            22     Youth  Medium   \n",
      "2        Mobile    600         High            40     Adult     Low   \n",
      "3         Shoes     50          Low            29     Adult    High   \n",
      "4        Tablet    300       Medium            24     Youth  Medium   \n",
      "5  Women Clothe     70          Low            30     Adult     Low   \n",
      "6   Man Clothes     45          Low            35     Adult    High   \n",
      "\n",
      "   High_Rated  \n",
      "0           1  \n",
      "1           0  \n",
      "2           0  \n",
      "3           1  \n",
      "4           0  \n",
      "5           0  \n",
      "6           1  \n"
     ]
    }
   ],
   "source": [
    "import pandas as pd\n",
    "\n",
    "# Hypothetical dataset\n",
    "data = {\n",
    "    'Product': ['Laptop', 'Shirt', 'Mobile', 'Shoes', 'Tablet', 'Women Clothe', 'Man Clothes'],\n",
    "    'Category': ['Electronics', 'Category_Fashion', 'Electronics', 'Category_Fashion', 'Electronics', 'Category_Fashion', 'Category_Fashion'],\n",
    "    'Price': [800, 30, 600, 50, 300, 70, 45],\n",
    "    'Rating': ['High', 'Medium', 'Low', 'High', 'Medium', 'Low', 'High'],\n",
    "    'Customer_Age': [34, 22, 40, 29, 24, 30, 35],\n",
    "    'Category_Fashion' : ['Shirt', 'Shoes', 'Women Clothes', 'Man Clothes', 'Kid clothing', 'girls Clothing', 'Boy shirt' ],\n",
    "    'Purchased': [1, 0, 1, 0, 1, 1, 0],\n",
    "    'Purchase_Frequency': [3, 1, 5, 1, 2, 2, 1],\n",
    "    'Region': ['KBL', 'GH', 'KND', 'MAZ', 'BAD', 'HRT', 'BMY']\n",
    "}\n",
    "\n",
    "df = pd.DataFrame(data)\n",
    "\n",
    "# Feature Engineering\n",
    "\n",
    "# Creating Price_Bucket feature\n",
    "df['Price_Bucket'] = pd.cut(df['Price'], bins=[0, 100, 500, 1000], labels=['Low', 'Medium', 'High'])\n",
    "\n",
    "# Creating Age_Group feature\n",
    "df['Age_Group'] = pd.cut(df['Customer_Age'], bins=[0, 25, 40, 100], labels=['Youth', 'Adult', 'Senior'])\n",
    "\n",
    "# Creating High_Rated feature\n",
    "df['High_Rated'] = df['Rating'].apply(lambda x: 1 if x == 'High' else 0)\n",
    "\n",
    "print(\"After Feature Engineering:\\n\", df[['Product', 'Price', 'Price_Bucket', 'Customer_Age', 'Age_Group', 'Rating', 'High_Rated']])\n"
   ]
  },
  {
   "cell_type": "code",
   "execution_count": 19,
   "id": "0fcbf9f6-197d-40b5-abab-acdf0d9ab018",
   "metadata": {},
   "outputs": [
    {
     "name": "stdout",
     "output_type": "stream",
     "text": [
      "Training set size: (4, 5)\n",
      "Testing set size: (3, 5)\n"
     ]
    }
   ],
   "source": [
    "from sklearn.model_selection import train_test_split\n",
    "\n",
    "# Features and target variable\n",
    "X = df[['Price', 'High_Rated', 'Customer_Age', 'Purchase_Frequency', 'Category_Fashion']]  # Selected features\n",
    "y = df['Purchased']  # Target variable indicating purchase behavior\n",
    "\n",
    "# Split the data into training (70%) and testing (30%) sets\n",
    "X_train, X_test, y_train, y_test = train_test_split(X, y, test_size=0.3, random_state=42)\n",
    "\n",
    "print(\"Training set size:\", X_train.shape)\n",
    "print(\"Testing set size:\", X_test.shape)\n"
   ]
  },
  {
   "cell_type": "code",
   "execution_count": 21,
   "id": "53242828-dd80-4c0a-9aa4-c6eebf810097",
   "metadata": {},
   "outputs": [
    {
     "name": "stdout",
     "output_type": "stream",
     "text": [
      "Purchase distribution in training set:\n",
      " Purchased\n",
      "1    0.5\n",
      "0    0.5\n",
      "Name: proportion, dtype: float64\n",
      "\n",
      "Feature summary in training set:\n",
      "            Price  High_Rated  Customer_Age  Purchase_Frequency\n",
      "count    4.000000     4.00000       4.00000            4.000000\n",
      "mean   248.750000     0.50000      32.00000            2.250000\n",
      "std    262.690407     0.57735       6.97615            1.892969\n",
      "min     45.000000     0.00000      24.00000            1.000000\n",
      "25%     48.750000     0.00000      27.75000            1.000000\n",
      "50%    175.000000     0.50000      32.00000            1.500000\n",
      "75%    375.000000     1.00000      36.25000            2.750000\n",
      "max    600.000000     1.00000      40.00000            5.000000\n",
      "\n",
      "Null values in training set:\n",
      " Price                 0\n",
      "High_Rated            0\n",
      "Customer_Age          0\n",
      "Purchase_Frequency    0\n",
      "Category_Fashion      0\n",
      "dtype: int64\n"
     ]
    }
   ],
   "source": [
    "# Check the distribution of the target variable to ensure balance\n",
    "print(\"Purchase distribution in training set:\\n\", y_train.value_counts(normalize=True))\n",
    "\n",
    "# Check for sufficient data points in each category\n",
    "print(\"\\nFeature summary in training set:\")\n",
    "print(X_train.describe())\n",
    "\n",
    "# Confirm data cleaning\n",
    "print(\"\\nNull values in training set:\\n\", X_train.isnull().sum())\n"
   ]
  },
  {
   "cell_type": "code",
   "execution_count": 27,
   "id": "f10b20ff-5c21-4bcf-8210-52458e71f026",
   "metadata": {},
   "outputs": [
    {
     "name": "stdout",
     "output_type": "stream",
     "text": [
      "Model Accuracy: 0.6666666666666666\n",
      "\n",
      "Classification Report:\n",
      "               precision    recall  f1-score   support\n",
      "\n",
      "           0       0.50      1.00      0.67         1\n",
      "           1       1.00      0.50      0.67         2\n",
      "\n",
      "    accuracy                           0.67         3\n",
      "   macro avg       0.75      0.75      0.67         3\n",
      "weighted avg       0.83      0.67      0.67         3\n",
      "\n"
     ]
    }
   ],
   "source": [
    "from sklearn.model_selection import train_test_split\n",
    "from sklearn.ensemble import RandomForestClassifier\n",
    "from sklearn.metrics import accuracy_score, classification_report\n",
    "import pandas as pd\n",
    "\n",
    "# Define the dataset\n",
    "data = {\n",
    "    'Product': ['Laptop', 'Shirt', 'Mobile', 'Shoes', 'Tablet', 'Women Clothes', 'Man Clothes'],\n",
    "    'Category': ['Electronics', 'Fashion', 'Electronics', 'Fashion', 'Electronics', 'Fashion', 'Fashion'],\n",
    "    'Price': [800, 30, 600, 50, 300, 70, 45],\n",
    "    'Rating': ['High', 'Medium', 'Low', 'High', 'Medium', 'Low', 'High'],\n",
    "    'Customer_Age': [34, 22, 40, 29, 24, 30, 35],\n",
    "    'Purchased': [1, 0, 1, 0, 1, 1, 0],\n",
    "    'Purchase_Frequency': [3, 1, 5, 1, 2, 2, 1],\n",
    "    'Region': ['KBL', 'GH', 'KND', 'MAZ', 'BAD', 'HRT', 'BMY']\n",
    "}\n",
    "\n",
    "df = pd.DataFrame(data)\n",
    "\n",
    "# Feature Engineering\n",
    "df['Price_Bucket'] = pd.cut(df['Price'], bins=[0, 100, 500, 1000], labels=['Low', 'Medium', 'High'])\n",
    "df['Age_Group'] = pd.cut(df['Customer_Age'], bins=[0, 25, 40, 100], labels=['Youth', 'Adult', 'Senior'])\n",
    "df['High_Rated'] = df['Rating'].apply(lambda x: 1 if x == 'High' else 0)\n",
    "\n",
    "# One-Hot Encoding for 'Category'\n",
    "df = pd.get_dummies(df, columns=['Category'], drop_first=True)\n",
    "\n",
    "# Select features and target\n",
    "X = df[['Price', 'High_Rated', 'Customer_Age', 'Purchase_Frequency', 'Category_Fashion']]\n",
    "y = df['Purchased']\n",
    "\n",
    "# Split the data\n",
    "X_train, X_test, y_train, y_test = train_test_split(X, y, test_size=0.3, random_state=42)\n",
    "\n",
    "# Initialize and train the model\n",
    "model = RandomForestClassifier(random_state=42)\n",
    "model.fit(X_train, y_train)\n",
    "\n",
    "# Make predictions\n",
    "y_pred = model.predict(X_test)\n",
    "\n",
    "# Evaluate the model\n",
    "accuracy = accuracy_score(y_test, y_pred)\n",
    "print(\"Model Accuracy:\", accuracy)\n",
    "print(\"\\nClassification Report:\\n\", classification_report(y_test, y_pred))\n",
    "\n"
   ]
  },
  {
   "cell_type": "code",
   "execution_count": 17,
   "id": "fe6ace26-df0f-4e69-a149-cf20ef649452",
   "metadata": {},
   "outputs": [
    {
     "name": "stdout",
     "output_type": "stream",
     "text": [
      "Model training completed.\n"
     ]
    }
   ],
   "source": [
    "from sklearn.ensemble import RandomForestClassifier\n",
    "\n",
    "# Initialize the model\n",
    "model = RandomForestClassifier(random_state=42)\n",
    "\n",
    "# Train the model using the training data\n",
    "model.fit(X_train, y_train)\n",
    "\n",
    "print(\"Model training completed.\")\n"
   ]
  },
  {
   "cell_type": "code",
   "execution_count": 19,
   "id": "006b964d-ea72-4680-89e7-3d4c1d4b3d79",
   "metadata": {},
   "outputs": [
    {
     "name": "stdout",
     "output_type": "stream",
     "text": [
      "Predictions completed.\n"
     ]
    }
   ],
   "source": [
    "# Predict on the test set\n",
    "y_pred = model.predict(X_test)\n",
    "\n",
    "print(\"Predictions completed.\")\n"
   ]
  },
  {
   "cell_type": "code",
   "execution_count": 21,
   "id": "1ac94504-b242-46a7-80f6-3a2265872abc",
   "metadata": {},
   "outputs": [
    {
     "name": "stdout",
     "output_type": "stream",
     "text": [
      "Model Accuracy: 0.67\n",
      "Confusion Matrix:\n",
      " [[1 0]\n",
      " [1 1]]\n"
     ]
    }
   ],
   "source": [
    "from sklearn.metrics import accuracy_score, confusion_matrix\n",
    "\n",
    "# Calculate accuracy\n",
    "accuracy = accuracy_score(y_test, y_pred)\n",
    "print(f\"Model Accuracy: {accuracy:.2f}\")\n",
    "\n",
    "# Confusion matrix\n",
    "conf_matrix = confusion_matrix(y_test, y_pred)\n",
    "print(\"Confusion Matrix:\\n\", conf_matrix)\n"
   ]
  },
  {
   "cell_type": "code",
   "execution_count": 25,
   "id": "d3808d10-bfbc-416d-be98-c86c814dcdf4",
   "metadata": {},
   "outputs": [
    {
     "name": "stdout",
     "output_type": "stream",
     "text": [
      "Model trained and saved as 'trained_model.pkl'.\n"
     ]
    }
   ],
   "source": [
    "import pandas as pd\n",
    "from sklearn.model_selection import train_test_split\n",
    "from sklearn.ensemble import RandomForestClassifier\n",
    "import joblib\n",
    "\n",
    "# Sample dataset\n",
    "data = {\n",
    "    'Product': ['Laptop', 'Shirt', 'Mobile', 'Shoes', 'Tablet', 'Women Clothes', 'Man Clothes'],\n",
    "    'Category': ['Electronics', 'Fashion', 'Electronics', 'Fashion', 'Electronics', 'Fashion', 'Fashion'],\n",
    "    'Price': [800, 30, 600, 50, 300, 70, 45],\n",
    "    'Rating': ['High', 'Medium', 'Low', 'High', 'Medium', 'Low', 'High'],\n",
    "    'Customer_Age': [34, 22, 40, 29, 24, 30, 35],\n",
    "    'Purchased': [1, 0, 1, 0, 1, 1, 0],\n",
    "    'Purchase_Frequency': [3, 1, 5, 1, 2, 2, 1]\n",
    "}\n",
    "\n",
    "df = pd.DataFrame(data)\n",
    "\n",
    "# Feature Engineering\n",
    "df['High_Rated'] = df['Rating'].apply(lambda x: 1 if x == 'High' else 0)\n",
    "df = pd.get_dummies(df, columns=['Category'], drop_first=True)\n",
    "\n",
    "# Features and target\n",
    "X = df[['Price', 'High_Rated', 'Customer_Age', 'Purchase_Frequency', 'Category_Fashion']]\n",
    "y = df['Purchased']\n",
    "\n",
    "# Split the data\n",
    "X_train, X_test, y_train, y_test = train_test_split(X, y, test_size=0.3, random_state=42)\n",
    "\n",
    "# Train the model\n",
    "model = RandomForestClassifier(random_state=42)\n",
    "model.fit(X_train, y_train)\n",
    "\n",
    "# Save the trained model\n",
    "joblib.dump(model, 'trained_model.pkl')\n",
    "print(\"Model trained and saved as 'trained_model.pkl'.\")"
   ]
  },
  {
   "cell_type": "code",
   "execution_count": 5,
   "id": "430286cf-2fa7-4708-99cc-4ffbd0ab2f2f",
   "metadata": {},
   "outputs": [],
   "source": [
    "# from flask import Flask, request, jsonify\n",
    "# import joblib\n",
    "\n",
    "# # Initialize Flask app\n",
    "# app = Flask(__name__)\n",
    "\n",
    "# # Load the trained model\n",
    "# model = joblib.load('trained_model.pkl')\n",
    "\n",
    "# @app.route('/predict', methods=['POST'])\n",
    "# def predict():\n",
    "#     # Example input: {\"Price\": 300, \"High_Rated\": 1, \"Customer_Age\": 24, \"Purchase_Frequency\": 2, \"Category_Fashion\": 1}\n",
    "#     data = request.get_json()\n",
    "#     features = [data['Price'], data['High_Rated'], data['Customer_Age'], data['Purchase_Frequency'], data['Category_Fashion']]\n",
    "#     prediction = model.predict([features])\n",
    "#     return jsonify({'Purchased': int(prediction[0])})\n",
    "\n",
    "# if __name__ == '__main__':\n",
    "#     app.run(debug=True)\n"
   ]
  },
  {
   "cell_type": "code",
   "execution_count": 7,
   "id": "47f0026b-ec4b-4ba9-9bd5-b2a866107571",
   "metadata": {},
   "outputs": [],
   "source": [
    "# {\n",
    "#   \"Price\": 300,\n",
    "#   \"High_Rated\": 1,\n",
    "#   \"Customer_Age\": 24,\n",
    "#   \"Purchase_Frequency\": 2,\n",
    "#   \"Category_Fashion\": 1\n",
    "# }\n"
   ]
  },
  {
   "cell_type": "code",
   "execution_count": 9,
   "id": "7ab32280-dedc-4124-809c-3e17891bf3e9",
   "metadata": {},
   "outputs": [],
   "source": [
    "# {\n",
    "#   \"Purchased\": 1\n",
    "# }\n"
   ]
  },
  {
   "cell_type": "code",
   "execution_count": null,
   "id": "afe8410f-1a2c-47a1-9fa1-46f370aab142",
   "metadata": {},
   "outputs": [],
   "source": []
  }
 ],
 "metadata": {
  "kernelspec": {
   "display_name": "Python 3 (ipykernel)",
   "language": "python",
   "name": "python3"
  },
  "language_info": {
   "codemirror_mode": {
    "name": "ipython",
    "version": 3
   },
   "file_extension": ".py",
   "mimetype": "text/x-python",
   "name": "python",
   "nbconvert_exporter": "python",
   "pygments_lexer": "ipython3",
   "version": "3.12.4"
  }
 },
 "nbformat": 4,
 "nbformat_minor": 5
}
