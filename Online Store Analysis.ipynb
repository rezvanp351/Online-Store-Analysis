{
 "cells": [
  {
   "cell_type": "code",
   "execution_count": 3,
   "id": "d0371c4d-513a-447f-98aa-e8f56ebda41c",
   "metadata": {},
   "outputs": [
    {
     "name": "stdout",
     "output_type": "stream",
     "text": [
      "                            uniq_id            crawl_timestamp  \\\n",
      "0  c2d766ca982eca8304150849735ffef9  2016-03-25 22:59:23 +0000   \n",
      "1  7f7036a6d550aaa89d34c77bd39a5e48  2016-03-25 22:59:23 +0000   \n",
      "2  f449ec65dcbc041b6ae5e6a32717d01b  2016-03-25 22:59:23 +0000   \n",
      "3  0973b37acd0c664e3de26e97e5571454  2016-03-25 22:59:23 +0000   \n",
      "4  bc940ea42ee6bef5ac7cea3fb5cfbee7  2016-03-25 22:59:23 +0000   \n",
      "\n",
      "                                         product_url  \\\n",
      "0  http://www.flipkart.com/alisha-solid-women-s-c...   \n",
      "1  http://www.flipkart.com/fabhomedecor-fabric-do...   \n",
      "2  http://www.flipkart.com/aw-bellies/p/itmeh4grg...   \n",
      "3  http://www.flipkart.com/alisha-solid-women-s-c...   \n",
      "4  http://www.flipkart.com/sicons-all-purpose-arn...   \n",
      "\n",
      "                            product_name  \\\n",
      "0    Alisha Solid Women's Cycling Shorts   \n",
      "1    FabHomeDecor Fabric Double Sofa Bed   \n",
      "2                             AW Bellies   \n",
      "3    Alisha Solid Women's Cycling Shorts   \n",
      "4  Sicons All Purpose Arnica Dog Shampoo   \n",
      "\n",
      "                               product_category_tree               pid  \\\n",
      "0  [\"Clothing >> Women's Clothing >> Lingerie, Sl...  SRTEH2FF9KEDEFGF   \n",
      "1  [\"Furniture >> Living Room Furniture >> Sofa B...  SBEEH3QGU7MFYJFY   \n",
      "2  [\"Footwear >> Women's Footwear >> Ballerinas >...  SHOEH4GRSUBJGZXE   \n",
      "3  [\"Clothing >> Women's Clothing >> Lingerie, Sl...  SRTEH2F6HUZMQ6SJ   \n",
      "4  [\"Pet Supplies >> Grooming >> Skin & Coat Care...  PSOEH3ZYDMSYARJ5   \n",
      "\n",
      "   retail_price  discounted_price  \\\n",
      "0         999.0             379.0   \n",
      "1       32157.0           22646.0   \n",
      "2         999.0             499.0   \n",
      "3         699.0             267.0   \n",
      "4         220.0             210.0   \n",
      "\n",
      "                                               image  is_FK_Advantage_product  \\\n",
      "0  [\"http://img5a.flixcart.com/image/short/u/4/a/...                    False   \n",
      "1  [\"http://img6a.flixcart.com/image/sofa-bed/j/f...                    False   \n",
      "2  [\"http://img5a.flixcart.com/image/shoe/7/z/z/r...                    False   \n",
      "3  [\"http://img5a.flixcart.com/image/short/6/2/h/...                    False   \n",
      "4  [\"http://img5a.flixcart.com/image/pet-shampoo/...                    False   \n",
      "\n",
      "                                         description       product_rating  \\\n",
      "0  Key Features of Alisha Solid Women's Cycling S...  No rating available   \n",
      "1  FabHomeDecor Fabric Double Sofa Bed (Finish Co...  No rating available   \n",
      "2  Key Features of AW Bellies Sandals Wedges Heel...  No rating available   \n",
      "3  Key Features of Alisha Solid Women's Cycling S...  No rating available   \n",
      "4  Specifications of Sicons All Purpose Arnica Do...  No rating available   \n",
      "\n",
      "        overall_rating         brand  \\\n",
      "0  No rating available        Alisha   \n",
      "1  No rating available  FabHomeDecor   \n",
      "2  No rating available            AW   \n",
      "3  No rating available        Alisha   \n",
      "4  No rating available        Sicons   \n",
      "\n",
      "                              product_specifications  \n",
      "0  {\"product_specification\"=>[{\"key\"=>\"Number of ...  \n",
      "1  {\"product_specification\"=>[{\"key\"=>\"Installati...  \n",
      "2  {\"product_specification\"=>[{\"key\"=>\"Ideal For\"...  \n",
      "3  {\"product_specification\"=>[{\"key\"=>\"Number of ...  \n",
      "4  {\"product_specification\"=>[{\"key\"=>\"Pet Type\",...  \n"
     ]
    }
   ],
   "source": [
    "import pandas as pd\n",
    "\n",
    "# Load data from the Flipkart dataset\n",
    "df = pd.read_csv('flipkart_com-ecommerce_sample_small.csv')\n",
    "\n",
    "# Display the first few rows to understand its structure\n",
    "print(df.head())\n"
   ]
  },
  {
   "cell_type": "code",
   "execution_count": 9,
   "id": "42cac3b3-06e5-4783-b776-d67ea61a50d5",
   "metadata": {},
   "outputs": [
    {
     "name": "stdout",
     "output_type": "stream",
     "text": [
      "Downloading from https://www.kaggle.com/api/v1/datasets/download/PromptCloudHQ/flipkart-products?dataset_version_number=1...\n"
     ]
    },
    {
     "name": "stderr",
     "output_type": "stream",
     "text": [
      "100%|██████████████████████████████████████████████████████████████████████████████| 5.50M/5.50M [00:49<00:00, 118kB/s]"
     ]
    },
    {
     "name": "stdout",
     "output_type": "stream",
     "text": [
      "Extracting files...\n",
      "Path to dataset files: C:\\Users\\Sasan-PC\\.cache\\kagglehub\\datasets\\PromptCloudHQ\\flipkart-products\\versions\\1\n"
     ]
    },
    {
     "name": "stderr",
     "output_type": "stream",
     "text": [
      "\n"
     ]
    }
   ],
   "source": [
    "import kagglehub\n",
    "\n",
    "# Download latest version: https://www.kaggle.com/datasets/PromptCloudHQ/flipkart-products\n",
    "path = kagglehub.dataset_download(\"PromptCloudHQ/flipkart-products\")\n",
    "\n",
    "print(\"Path to dataset files:\", path)"
   ]
  },
  {
   "cell_type": "code",
   "execution_count": 13,
   "id": "86b5ac18-8665-44cc-9230-6c8c5f8a2bf7",
   "metadata": {},
   "outputs": [],
   "source": [
    "# If dose not work some issue from kaggle Profile you can use form github Profile \n",
    "# This the github Profile path and you can learn all github insturaction and tutorail\n",
    "# https://github.com/Kaggle/kagglehub/blob/main/README.md#download-dataset"
   ]
  },
  {
   "cell_type": "code",
   "execution_count": 17,
   "id": "5f41658c-4446-43d1-a1b6-135485ca7c0a",
   "metadata": {},
   "outputs": [
    {
     "name": "stdout",
     "output_type": "stream",
     "text": [
      "Data cleaned successfully.\n"
     ]
    }
   ],
   "source": [
    "import pandas as pd\n",
    "\n",
    "# Read the CSV file\n",
    "df = pd.read_csv('flipkart_com-ecommerce_sample_small.csv')\n",
    "\n",
    "# Drop rows with missing values\n",
    "df.dropna(inplace=True)\n",
    "\n",
    "# Fill missing values with the mean for numeric columns only\n",
    "numeric_columns = df.select_dtypes(include=['number']).columns\n",
    "df[numeric_columns] = df[numeric_columns].fillna(df[numeric_columns].mean())\n",
    "\n",
    "# Remove duplicate entries\n",
    "df.drop_duplicates(inplace=True)\n",
    "\n",
    "print(\"Data cleaned successfully.\")\n",
    "\n"
   ]
  },
  {
   "cell_type": "code",
   "execution_count": null,
   "id": "69c33e1c-3802-44f7-9ee4-e436a998924f",
   "metadata": {},
   "outputs": [],
   "source": []
  }
 ],
 "metadata": {
  "kernelspec": {
   "display_name": "Python 3 (ipykernel)",
   "language": "python",
   "name": "python3"
  },
  "language_info": {
   "codemirror_mode": {
    "name": "ipython",
    "version": 3
   },
   "file_extension": ".py",
   "mimetype": "text/x-python",
   "name": "python",
   "nbconvert_exporter": "python",
   "pygments_lexer": "ipython3",
   "version": "3.12.4"
  }
 },
 "nbformat": 4,
 "nbformat_minor": 5
}
